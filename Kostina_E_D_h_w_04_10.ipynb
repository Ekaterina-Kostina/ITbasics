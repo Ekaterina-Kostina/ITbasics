{
  "nbformat": 4,
  "nbformat_minor": 0,
  "metadata": {
    "colab": {
      "provenance": [],
      "authorship_tag": "ABX9TyM3f1p1uY22ve4JoNp6+tCD",
      "include_colab_link": true
    },
    "kernelspec": {
      "name": "python3",
      "display_name": "Python 3"
    },
    "language_info": {
      "name": "python"
    }
  },
  "cells": [
    {
      "cell_type": "markdown",
      "metadata": {
        "id": "view-in-github",
        "colab_type": "text"
      },
      "source": [
        "<a href=\"https://colab.research.google.com/github/Ekaterina-Kostina/ITbasics/blob/main/Kostina_E_D_h_w_04_10.ipynb\" target=\"_parent\"><img src=\"https://colab.research.google.com/assets/colab-badge.svg\" alt=\"Open In Colab\"/></a>"
      ]
    },
    {
      "cell_type": "markdown",
      "source": [
        "№1. Write a Python program to convert JSON data to Python object."
      ],
      "metadata": {
        "id": "DwC7lAF81H23"
      }
    },
    {
      "cell_type": "code",
      "execution_count": 2,
      "metadata": {
        "id": "9nly3DUIz97U",
        "colab": {
          "base_uri": "https://localhost:8080/"
        },
        "outputId": "ca2e4819-5b51-406f-a9c3-02d52c1e7a7d"
      },
      "outputs": [
        {
          "output_type": "stream",
          "name": "stdout",
          "text": [
            "\n",
            "Преобразованные данные:\n",
            "{'name': 'Lex', 'class': 'C', 'age': 23}\n",
            "\n",
            "Имя: Lex\n",
            "Класс: C\n",
            "Возраст: 23\n"
          ]
        }
      ],
      "source": [
        "import json\n",
        "data = '{\"name\": \"Lex\", \"class\": \"C\", \"age\": 23}'\n",
        "parsed_data = json.loads(data)\n",
        "print(\"\\nПреобразованные данные:\")\n",
        "print(parsed_data)\n",
        "\n",
        "print(\"\\nИмя:\", parsed_data[\"name\"])\n",
        "print(\"Класс:\", parsed_data[\"class\"])\n",
        "print(\"Возраст:\", parsed_data[\"age\"])\n"
      ]
    },
    {
      "cell_type": "markdown",
      "source": [
        "№2. Write a Python program to convert Python object to JSON data."
      ],
      "metadata": {
        "id": "ufPpm75FLgTb"
      }
    },
    {
      "cell_type": "code",
      "source": [
        "import json\n",
        "\n",
        "person = {\n",
        "    \"name\": \"Lex\",\n",
        "    \"class\": 'C',\n",
        "    \"age\": 23,\n",
        "}\n",
        "\n",
        "json_data = json.dumps(person)\n",
        "\n",
        "print(\"JSON данные:\", json_data)\n"
      ],
      "metadata": {
        "colab": {
          "base_uri": "https://localhost:8080/"
        },
        "id": "pep0RKtVLf7m",
        "outputId": "b74594ed-6e3f-428f-9357-16e3b46724a1"
      },
      "execution_count": 5,
      "outputs": [
        {
          "output_type": "stream",
          "name": "stdout",
          "text": [
            "JSON данные: {\"name\": \"Lex\", \"class\": \"C\", \"age\": 23}\n"
          ]
        }
      ]
    },
    {
      "cell_type": "markdown",
      "source": [
        "№3. Write a Python program to convert Python objects into JSON strings. Print all the values."
      ],
      "metadata": {
        "id": "9zV80wxUMrAj"
      }
    },
    {
      "cell_type": "code",
      "source": [
        "import json\n",
        "\n",
        "data = {\n",
        "    \"name\": \"Steven\",\n",
        "    \"age\": 58,\n",
        "    \"height\": 5.7,\n",
        "    \"is_writer\": True,\n",
        "    \"skills\": [\"Writing\", \"Horrors\"],\n",
        "    \"address\": None,\n",
        "    \"education\": {\n",
        "        \"degree\": \"Bachelor\",\n",
        "        \"year\": 1984\n",
        "    }\n",
        "}\n",
        "\n",
        "json_string = json.dumps(data)\n",
        "\n",
        "python_data = json.loads(json_string)\n",
        "for key, value in python_data.items():\n",
        "    value_type = type(value).__name__  # Определяем тип значения\n",
        "    print(f\"{key} ({value_type}): {value}\")\n"
      ],
      "metadata": {
        "colab": {
          "base_uri": "https://localhost:8080/"
        },
        "id": "6W57iB7KNcxU",
        "outputId": "54a0b765-6ce7-473e-f530-b0357154aa16"
      },
      "execution_count": 11,
      "outputs": [
        {
          "output_type": "stream",
          "name": "stdout",
          "text": [
            "name (str): Steven\n",
            "age (int): 58\n",
            "height (float): 5.7\n",
            "is_writer (bool): True\n",
            "skills (list): ['Writing', 'Horrors']\n",
            "address (NoneType): None\n",
            "education (dict): {'degree': 'Bachelor', 'year': 1984}\n"
          ]
        }
      ]
    },
    {
      "cell_type": "markdown",
      "source": [
        "№4.  Write a Python program to convert Python dictionary object (sort by key) to JSON data. Print the object members with indent level 4."
      ],
      "metadata": {
        "id": "899yftTuQ-0E"
      }
    },
    {
      "cell_type": "code",
      "source": [
        "import json\n",
        "\n",
        "data = {\n",
        "    \"name\": \"Bruce\",\n",
        "    \"last name\": \"Ernst\",\n",
        "    \"department\": \"HR\",\n",
        "    \"age\": 25\n",
        "}\n",
        "json_string = json.dumps(data, sort_keys=True, indent=4)\n",
        "print('Несортированные данные')\n",
        "print(data)\n",
        "print(\"JSON данные с отсортированными ключами и отступом:\")\n",
        "print(json_string)\n"
      ],
      "metadata": {
        "colab": {
          "base_uri": "https://localhost:8080/"
        },
        "id": "H6RylBjKRNEn",
        "outputId": "bf44c4e3-655d-4e32-e23a-fba691994e07"
      },
      "execution_count": 18,
      "outputs": [
        {
          "output_type": "stream",
          "name": "stdout",
          "text": [
            "Несортированные данные\n",
            "{'name': 'Bruce', 'last name': 'Ernst', 'department': 'HR', 'age': 25}\n",
            "JSON данные с отсортированными ключами и отступом:\n",
            "{\n",
            "    \"age\": 25,\n",
            "    \"department\": \"HR\",\n",
            "    \"last name\": \"Ernst\",\n",
            "    \"name\": \"Bruce\"\n",
            "}\n"
          ]
        }
      ]
    },
    {
      "cell_type": "markdown",
      "source": [
        "№5.  Write a Python program to convert JSON encoded data into Python objects."
      ],
      "metadata": {
        "id": "U4b8C-JaSTEr"
      }
    },
    {
      "cell_type": "code",
      "source": [
        "import json\n",
        "json_data = '''\n",
        "{\n",
        "    \"name\": \"Alice\",\n",
        "    \"age\": 30,\n",
        "    \"is_student\": false,\n",
        "    \"skills\": [\"Python\", \"Data Science\"],\n",
        "    \"address\": {\n",
        "        \"city\": \"New York\",\n",
        "        \"postal_code\": 10001\n",
        "    }\n",
        "}\n",
        "'''\n",
        "python_obj = json.loads(json_data)\n",
        "\n",
        "print(\"Name:\", python_obj[\"name\"])           # Строка\n",
        "print(\"Age:\", python_obj[\"age\"])         # Целое число\n",
        "print(\"Student:\", python_obj[\"is_student\"])  # Логическое значение\n",
        "print(\"Skills:\", python_obj[\"skills\"])       # Список\n",
        "print(\"City:\", python_obj[\"address\"][\"city\"])  # Cловарь"
      ],
      "metadata": {
        "colab": {
          "base_uri": "https://localhost:8080/"
        },
        "id": "OxTYW7g9SXWe",
        "outputId": "4fcc82df-e8e4-4360-d967-07646c544475"
      },
      "execution_count": 23,
      "outputs": [
        {
          "output_type": "stream",
          "name": "stdout",
          "text": [
            "Name: Alice\n",
            "Age: 30\n",
            "Student: False\n",
            "Skills: ['Python', 'Data Science']\n",
            "City: New York\n"
          ]
        }
      ]
    },
    {
      "cell_type": "markdown",
      "source": [
        "№6. Write a Python program to create a new JSON file from an existing JSON file."
      ],
      "metadata": {
        "id": "1AH3DmDqTdYq"
      }
    },
    {
      "cell_type": "code",
      "source": [
        "import json\n",
        "with open('states.json') as f:\n",
        "    state_data = json.load(f)\n",
        "\n",
        "for state in state_data['states']:\n",
        "    del state['area_codes']\n",
        "\n",
        "with open('new_states.json', 'w') as f:\n",
        "    json.dump(state_data, f, indent=2)\n",
        "\n",
        "print(\"Новый JSON файл создан без 'area_codes'.\")\n"
      ],
      "metadata": {
        "colab": {
          "base_uri": "https://localhost:8080/",
          "height": 219
        },
        "id": "C3SHA2E1T9uN",
        "outputId": "3f705d4a-8d90-4b3f-de55-a8f15c918314"
      },
      "execution_count": 1,
      "outputs": [
        {
          "output_type": "error",
          "ename": "FileNotFoundError",
          "evalue": "[Errno 2] No such file or directory: 'states.json'",
          "traceback": [
            "\u001b[0;31m---------------------------------------------------------------------------\u001b[0m",
            "\u001b[0;31mFileNotFoundError\u001b[0m                         Traceback (most recent call last)",
            "\u001b[0;32m<ipython-input-1-2675bc9fbf39>\u001b[0m in \u001b[0;36m<cell line: 4>\u001b[0;34m()\u001b[0m\n\u001b[1;32m      2\u001b[0m \u001b[0;34m\u001b[0m\u001b[0m\n\u001b[1;32m      3\u001b[0m \u001b[0;31m# Открываем существующий JSON файл 'states.json' для чтения\u001b[0m\u001b[0;34m\u001b[0m\u001b[0;34m\u001b[0m\u001b[0m\n\u001b[0;32m----> 4\u001b[0;31m \u001b[0;32mwith\u001b[0m \u001b[0mopen\u001b[0m\u001b[0;34m(\u001b[0m\u001b[0;34m'states.json'\u001b[0m\u001b[0;34m)\u001b[0m \u001b[0;32mas\u001b[0m \u001b[0mf\u001b[0m\u001b[0;34m:\u001b[0m\u001b[0;34m\u001b[0m\u001b[0;34m\u001b[0m\u001b[0m\n\u001b[0m\u001b[1;32m      5\u001b[0m     \u001b[0mstate_data\u001b[0m \u001b[0;34m=\u001b[0m \u001b[0mjson\u001b[0m\u001b[0;34m.\u001b[0m\u001b[0mload\u001b[0m\u001b[0;34m(\u001b[0m\u001b[0mf\u001b[0m\u001b[0;34m)\u001b[0m  \u001b[0;31m# Загружаем данные JSON из файла в Python объект (словарь)\u001b[0m\u001b[0;34m\u001b[0m\u001b[0;34m\u001b[0m\u001b[0m\n\u001b[1;32m      6\u001b[0m \u001b[0;34m\u001b[0m\u001b[0m\n",
            "\u001b[0;31mFileNotFoundError\u001b[0m: [Errno 2] No such file or directory: 'states.json'"
          ]
        }
      ]
    },
    {
      "cell_type": "markdown",
      "source": [
        "№7. Write a Python program to check whether an instance is complex or not."
      ],
      "metadata": {
        "id": "zUBDrDPmrCZW"
      }
    },
    {
      "cell_type": "code",
      "source": [
        "import json\n",
        "def is_complex_num(objct):\n",
        "    if objct.get('__complex__', False):\n",
        "        return complex(objct['real'], objct['img'])\n",
        "    return objct\n",
        "\n",
        "complex_object = json.loads('{\"__complex__\": true, \"real\": 5, \"img\": 9}', object_hook=is_complex_num)\n",
        "\n",
        "simple_object = json.loads('{\"real\": 5, \"img\": 9}', object_hook=is_complex_num)\n",
        "\n",
        "print(\"Complex object: \", complex_object)\n",
        "print(\"Without complex object: \", simple_object)\n"
      ],
      "metadata": {
        "colab": {
          "base_uri": "https://localhost:8080/"
        },
        "id": "9rmOd_O5sTyU",
        "outputId": "3ed19c31-37ba-4680-946f-d517b1a2a567"
      },
      "execution_count": 9,
      "outputs": [
        {
          "output_type": "stream",
          "name": "stdout",
          "text": [
            "Complex object:  (5+9j)\n",
            "Without complex object:  {'real': 5, 'img': 9}\n"
          ]
        }
      ]
    },
    {
      "cell_type": "markdown",
      "source": [
        "№8. Write a Python program to check whether a JSON string contains complex object or not."
      ],
      "metadata": {
        "id": "lCnoQVgGt7IL"
      }
    },
    {
      "cell_type": "code",
      "source": [
        "import json\n",
        "def is_complex_num(objct):\n",
        "\n",
        "    if objct.get('__complex__', False):\n",
        "        return complex(objct['real'], objct['img'])\n",
        "    return objct\n",
        "\n",
        "complex_object = json.loads('{\"__complex__\": true, \"real\": 5, \"img\": 9}', object_hook=is_complex_num)\n",
        "simple_object = json.loads('{\"real\": 5, \"img\": 9}', object_hook=is_complex_num)\n",
        "\n",
        "print(\"Complex object:\", complex_object)\n",
        "print(\"Without complex object:\", simple_object)"
      ],
      "metadata": {
        "colab": {
          "base_uri": "https://localhost:8080/"
        },
        "id": "CxxQo7jhuAxo",
        "outputId": "a112481e-18f2-4694-dc7d-a6c8dc455cfe"
      },
      "execution_count": 5,
      "outputs": [
        {
          "output_type": "stream",
          "name": "stdout",
          "text": [
            "Complex object: (5+9j)\n",
            "Without complex object: {'real': 5, 'img': 9}\n"
          ]
        }
      ]
    },
    {
      "cell_type": "markdown",
      "source": [
        "№9. Write a Python program to access only unique key value of a Python object."
      ],
      "metadata": {
        "id": "4YZslP-Mv8sg"
      }
    },
    {
      "cell_type": "code",
      "source": [
        "import json\n",
        "python_obj = '{\"a\": 11, \"a\": 12, \"a\": 13, \"a\": 14, \"b\": 11, \"b\": 12}'\n",
        "\n",
        "print(\"Original Python object as JSON string:\")\n",
        "print(python_obj)\n",
        "\n",
        "json_obj = json.loads(python_obj)\n",
        "\n",
        "print(\"\\nPython object with unique keys:\")\n",
        "print(json_obj)"
      ],
      "metadata": {
        "colab": {
          "base_uri": "https://localhost:8080/"
        },
        "id": "oySjGCXiwDVR",
        "outputId": "602c3389-542d-4ba3-b788-bb37c51cc649"
      },
      "execution_count": 7,
      "outputs": [
        {
          "output_type": "stream",
          "name": "stdout",
          "text": [
            "Original Python object as JSON string:\n",
            "{\"a\": 11, \"a\": 12, \"a\": 13, \"a\": 14, \"b\": 11, \"b\": 12}\n",
            "\n",
            "Python object with unique keys:\n",
            "{'a': 14, 'b': 12}\n"
          ]
        }
      ]
    },
    {
      "cell_type": "markdown",
      "source": [
        "№1. Write a Python program to read each row from a given csv file and print a list of strings."
      ],
      "metadata": {
        "id": "ZySuyAUr2r-C"
      }
    },
    {
      "cell_type": "code",
      "source": [
        "import csv\n",
        "with open('departments.csv', newline='') as csvfile:\n",
        "    data = csv.reader(csvfile, delimiter=',', quotechar='\"')\n",
        "    for row in data:\n",
        "        print(row)"
      ],
      "metadata": {
        "colab": {
          "base_uri": "https://localhost:8080/"
        },
        "id": "6iIgluY326tC",
        "outputId": "f5d43cfa-da4a-43c6-8f4a-49652d6690bf"
      },
      "execution_count": 11,
      "outputs": [
        {
          "output_type": "stream",
          "name": "stdout",
          "text": [
            "['department_id', ' department_name', '  manager_id', '  location_id']\n",
            "['10', ' Administration', ' 200', ' 1700']\n",
            "['20', ' Marketing', ' 201', ' 1800']\n",
            "['30', ' Purchasing', ' 114', ' 1700']\n",
            "['40', ' Human Resources', ' 203', ' 2400']\n",
            "['50', ' Shipping', ' 121', ' 1500']\n",
            "['60', ' IT', ' 103', ' 1400']\n",
            "['70', ' Public Relations', ' 204', ' 2700']\n",
            "['80', ' Sales', ' 145', ' 2500']\n"
          ]
        }
      ]
    },
    {
      "cell_type": "markdown",
      "source": [
        "№2. Write a Python program to read a given CSV file having tab delimiter."
      ],
      "metadata": {
        "id": "1-6xlnWz4AHn"
      }
    },
    {
      "cell_type": "code",
      "source": [
        "import csv\n",
        "with open('countries.csv', newline='') as csvfile:\n",
        "    data = csv.reader(csvfile, delimiter='\\t')\n",
        "    for row in data:\n",
        "        print(', '.join(row))"
      ],
      "metadata": {
        "colab": {
          "base_uri": "https://localhost:8080/"
        },
        "id": "rIBzjTms4Kmr",
        "outputId": "a2f24439-0051-42ac-adbf-02218bde9acc"
      },
      "execution_count": 13,
      "outputs": [
        {
          "output_type": "stream",
          "name": "stdout",
          "text": [
            "country_id country_name region_id\n",
            "AR Argentina 2\n",
            "AU Australia 3\n",
            "BE Belgium 1\n",
            "BR Brazil 2\n",
            "CA Canada 2\n",
            "CH Switzerland 1\n",
            "CN China 3\n",
            "DE Germany 1\n",
            "DK Denmark 1\n",
            "EG Egypt 4\n",
            "FR France 1\n",
            "HK HongKong 3\n",
            "IL Israel 4\n",
            "IN India 3\n",
            "IT Italy 1\n",
            "JP Japan 3\n",
            "KW Kuwait 4\n",
            "MX Mexico 2\n",
            "NG Nigeria 4\n",
            "N Netherlands 1\n",
            "SG Singapore 3\n",
            "UK United Kingdom 1\n",
            "US United States of America 2\n",
            "ZM Zambia 4\n",
            "ZW Zimbabwe 4\n"
          ]
        }
      ]
    }
  ]
}