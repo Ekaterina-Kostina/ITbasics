{
  "nbformat": 4,
  "nbformat_minor": 0,
  "metadata": {
    "colab": {
      "provenance": [],
      "authorship_tag": "ABX9TyPNeG45hAzH3HsFo9Jo+i47",
      "include_colab_link": true
    },
    "kernelspec": {
      "name": "python3",
      "display_name": "Python 3"
    },
    "language_info": {
      "name": "python"
    }
  },
  "cells": [
    {
      "cell_type": "markdown",
      "metadata": {
        "id": "view-in-github",
        "colab_type": "text"
      },
      "source": [
        "<a href=\"https://colab.research.google.com/github/Ekaterina-Kostina/ITbasics/blob/main/Kostina_E_D_h_w_11_10.ipynb\" target=\"_parent\"><img src=\"https://colab.research.google.com/assets/colab-badge.svg\" alt=\"Open In Colab\"/></a>"
      ]
    },
    {
      "cell_type": "markdown",
      "source": [
        "1 Task: Find all words in a string that start with a capital letter.\n",
        "\t\"Hello world, this is a Regex example with Python.\""
      ],
      "metadata": {
        "id": "DwC7lAF81H23"
      }
    },
    {
      "cell_type": "code",
      "execution_count": 2,
      "metadata": {
        "id": "9nly3DUIz97U",
        "colab": {
          "base_uri": "https://localhost:8080/"
        },
        "outputId": "6381a1d7-bb81-4ee5-b62c-ba79c5fd995a"
      },
      "outputs": [
        {
          "output_type": "stream",
          "name": "stdout",
          "text": [
            "['Hello', 'Regex', 'Python']\n"
          ]
        }
      ],
      "source": [
        "import re\n",
        "text = \"Hello world, this is a Regex example with Python.\"\n",
        "match = re.findall(r\"\\b[A-Z]\\w*\", text)\n",
        "print(match)"
      ]
    },
    {
      "cell_type": "markdown",
      "source": [
        "2 Task: Replace all instances of \"is\" with \"was\" in the string.\n",
        "\t\"This is a test. This is only a test.\""
      ],
      "metadata": {
        "id": "ufPpm75FLgTb"
      }
    },
    {
      "cell_type": "code",
      "source": [
        "import re\n",
        "text = \"This is a test. This is only a test.\"\n",
        "match = re.sub(r\"\\bis\\b\", \"was\", text)\n",
        "print(match)\n"
      ],
      "metadata": {
        "colab": {
          "base_uri": "https://localhost:8080/"
        },
        "id": "pep0RKtVLf7m",
        "outputId": "bcff0e81-afac-4da4-fbbd-6226f1e70523"
      },
      "execution_count": 5,
      "outputs": [
        {
          "output_type": "stream",
          "name": "stdout",
          "text": [
            "This was a test. This was only a test.\n"
          ]
        }
      ]
    },
    {
      "cell_type": "markdown",
      "source": [
        "3 Task: Extract All URLs from a Text\n",
        "\"\"\"\n",
        "Visit https://www.example.com or follow http://example.org.\n",
        "You can also check out https://another-example.com/path?arg=val for more details.\n",
        "\"\"\""
      ],
      "metadata": {
        "id": "9zV80wxUMrAj"
      }
    },
    {
      "cell_type": "code",
      "source": [
        "import re\n",
        "text = \"\"\"\n",
        "Visit https://www.example.com or follow http://example.org.\n",
        "You can also check out https://another-example.com/path?arg=val for more details.\n",
        "\"\"\"\n",
        "match = re.findall(r\"https?://\\S+\", text)\n",
        "print(match)"
      ],
      "metadata": {
        "colab": {
          "base_uri": "https://localhost:8080/"
        },
        "id": "6W57iB7KNcxU",
        "outputId": "4afcc162-1e7b-4602-f7f9-937145c012a6"
      },
      "execution_count": 8,
      "outputs": [
        {
          "output_type": "stream",
          "name": "stdout",
          "text": [
            "['https://www.example.com', 'http://example.org.', 'https://another-example.com/path?arg=val']\n"
          ]
        }
      ]
    },
    {
      "cell_type": "markdown",
      "source": [
        "4 Task: Find all hashtags in a comment\n",
        "\t\"Loving the #sunset and #nature! #beautiful_day\""
      ],
      "metadata": {
        "id": "899yftTuQ-0E"
      }
    },
    {
      "cell_type": "code",
      "source": [
        "import re\n",
        "text = \"Loving the #sunset and #nature! #beautiful_day\"\n",
        "match = re.findall(r\"#\\w+\", text)\n",
        "print(match)"
      ],
      "metadata": {
        "colab": {
          "base_uri": "https://localhost:8080/"
        },
        "id": "H6RylBjKRNEn",
        "outputId": "e145075a-e1ac-402d-ec80-cf3416e7b8c8"
      },
      "execution_count": 9,
      "outputs": [
        {
          "output_type": "stream",
          "name": "stdout",
          "text": [
            "['#sunset', '#nature', '#beautiful_day']\n"
          ]
        }
      ]
    },
    {
      "cell_type": "markdown",
      "source": [
        "5 Task: Remove the repeated words\n",
        "\t\"This is is a test test string.\""
      ],
      "metadata": {
        "id": "U4b8C-JaSTEr"
      }
    },
    {
      "cell_type": "code",
      "source": [
        "import re\n",
        "text = \"This is is a test test string.\"\n",
        "match = re.sub(r\"\\b(\\w+)\\b\\s+\\1\\b\", r\"\\1\", text)\n",
        "print(match)"
      ],
      "metadata": {
        "colab": {
          "base_uri": "https://localhost:8080/"
        },
        "id": "OxTYW7g9SXWe",
        "outputId": "cbe0741e-aa8c-41c0-99d0-ecde402790da"
      },
      "execution_count": 10,
      "outputs": [
        {
          "output_type": "stream",
          "name": "stdout",
          "text": [
            "This is a test string.\n"
          ]
        }
      ]
    }
  ]
}